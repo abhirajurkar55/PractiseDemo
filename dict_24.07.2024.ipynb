{
 "cells": [
  {
   "cell_type": "code",
   "execution_count": null,
   "id": "cb0465c2",
   "metadata": {},
   "outputs": [],
   "source": [
    "dict:\n",
    "    it is collection of items\n",
    "    item --> key:value pair\n",
    "    it is mutable type - insert,update,delete\n",
    "    it is denoted by {}\n",
    "    key never duplicate if you give then it will consider latest value/values\n",
    "    \n",
    "    key:\n",
    "        key always immutable type\n",
    "        str,int\n",
    "        tuple - it is not recommnded\n",
    "        frozenset - it is not recommnded\n",
    "        \n",
    "    value:\n",
    "        mutable type or immutable DS\n",
    "    "
   ]
  },
  {
   "cell_type": "code",
   "execution_count": 11,
   "id": "3d69a3e6",
   "metadata": {},
   "outputs": [],
   "source": [
    "emp_details = {'id':101,'name':'Keshav','city':'Pune','sal':75000}"
   ]
  },
  {
   "cell_type": "code",
   "execution_count": 2,
   "id": "1507d6f5",
   "metadata": {},
   "outputs": [
    {
     "data": {
      "text/plain": [
       "{'id': 101, 'name': 'Keshav', 'city': 'Pune', 'sal': 75000}"
      ]
     },
     "execution_count": 2,
     "metadata": {},
     "output_type": "execute_result"
    }
   ],
   "source": [
    "emp_details\n"
   ]
  },
  {
   "cell_type": "code",
   "execution_count": 3,
   "id": "78e3e535",
   "metadata": {},
   "outputs": [],
   "source": [
    "p = {(1,2,3):'test'}"
   ]
  },
  {
   "cell_type": "code",
   "execution_count": 3,
   "id": "8c02fdba",
   "metadata": {},
   "outputs": [],
   "source": [
    "emp_details = {\n",
    "    'id':(101,103,105,107),\n",
    "    'name':['a','b','c','d'],\n",
    "    'city':['pune','mumbai','bang','chennai']\n",
    "}"
   ]
  },
  {
   "cell_type": "code",
   "execution_count": 6,
   "id": "06e205ea",
   "metadata": {},
   "outputs": [
    {
     "data": {
      "text/plain": [
       "{'id': (101, 103, 105, 107),\n",
       " 'name': ['a', 'b', 'c', 'd'],\n",
       " 'city': ['pune', 'mumbai', 'bang', 'chennai']}"
      ]
     },
     "execution_count": 6,
     "metadata": {},
     "output_type": "execute_result"
    }
   ],
   "source": [
    "emp_details\n"
   ]
  },
  {
   "cell_type": "code",
   "execution_count": 7,
   "id": "683cadc6",
   "metadata": {},
   "outputs": [],
   "source": [
    "import pandas as pd"
   ]
  },
  {
   "cell_type": "code",
   "execution_count": 8,
   "id": "7568bc96",
   "metadata": {},
   "outputs": [
    {
     "data": {
      "text/html": [
       "<div>\n",
       "<style scoped>\n",
       "    .dataframe tbody tr th:only-of-type {\n",
       "        vertical-align: middle;\n",
       "    }\n",
       "\n",
       "    .dataframe tbody tr th {\n",
       "        vertical-align: top;\n",
       "    }\n",
       "\n",
       "    .dataframe thead th {\n",
       "        text-align: right;\n",
       "    }\n",
       "</style>\n",
       "<table border=\"1\" class=\"dataframe\">\n",
       "  <thead>\n",
       "    <tr style=\"text-align: right;\">\n",
       "      <th></th>\n",
       "      <th>id</th>\n",
       "      <th>name</th>\n",
       "      <th>city</th>\n",
       "    </tr>\n",
       "  </thead>\n",
       "  <tbody>\n",
       "    <tr>\n",
       "      <th>0</th>\n",
       "      <td>101</td>\n",
       "      <td>a</td>\n",
       "      <td>pune</td>\n",
       "    </tr>\n",
       "    <tr>\n",
       "      <th>1</th>\n",
       "      <td>103</td>\n",
       "      <td>b</td>\n",
       "      <td>mumbai</td>\n",
       "    </tr>\n",
       "    <tr>\n",
       "      <th>2</th>\n",
       "      <td>105</td>\n",
       "      <td>c</td>\n",
       "      <td>bang</td>\n",
       "    </tr>\n",
       "    <tr>\n",
       "      <th>3</th>\n",
       "      <td>107</td>\n",
       "      <td>d</td>\n",
       "      <td>chennai</td>\n",
       "    </tr>\n",
       "  </tbody>\n",
       "</table>\n",
       "</div>"
      ],
      "text/plain": [
       "    id name     city\n",
       "0  101    a     pune\n",
       "1  103    b   mumbai\n",
       "2  105    c     bang\n",
       "3  107    d  chennai"
      ]
     },
     "execution_count": 8,
     "metadata": {},
     "output_type": "execute_result"
    }
   ],
   "source": [
    "pd.DataFrame(emp_details)"
   ]
  },
  {
   "cell_type": "code",
   "execution_count": null,
   "id": "8f486cf2",
   "metadata": {},
   "outputs": [],
   "source": [
    "Access Value from dict:"
   ]
  },
  {
   "cell_type": "code",
   "execution_count": 4,
   "id": "d5c238b9",
   "metadata": {},
   "outputs": [
    {
     "data": {
      "text/plain": [
       "{'id': (101, 103, 105, 107),\n",
       " 'name': ['a', 'b', 'c', 'd'],\n",
       " 'city': ['pune', 'mumbai', 'bang', 'chennai']}"
      ]
     },
     "execution_count": 4,
     "metadata": {},
     "output_type": "execute_result"
    }
   ],
   "source": [
    "emp_details"
   ]
  },
  {
   "cell_type": "code",
   "execution_count": 10,
   "id": "5c98ac54",
   "metadata": {},
   "outputs": [
    {
     "ename": "NameError",
     "evalue": "name 'emp' is not defined",
     "output_type": "error",
     "traceback": [
      "\u001b[1;31m---------------------------------------------------------------------------\u001b[0m",
      "\u001b[1;31mNameError\u001b[0m                                 Traceback (most recent call last)",
      "\u001b[1;32m<ipython-input-10-94640616605f>\u001b[0m in \u001b[0;36m<module>\u001b[1;34m\u001b[0m\n\u001b[1;32m----> 1\u001b[1;33m \u001b[0memp\u001b[0m\u001b[1;33m\u001b[0m\u001b[1;33m\u001b[0m\u001b[0m\n\u001b[0m",
      "\u001b[1;31mNameError\u001b[0m: name 'emp' is not defined"
     ]
    }
   ],
   "source": [
    "emp"
   ]
  },
  {
   "cell_type": "code",
   "execution_count": 12,
   "id": "3130e093",
   "metadata": {},
   "outputs": [
    {
     "data": {
      "text/plain": [
       "{'id': 101, 'name': 'Keshav', 'city': 'Pune', 'sal': 75000}"
      ]
     },
     "execution_count": 12,
     "metadata": {},
     "output_type": "execute_result"
    }
   ],
   "source": [
    "emp_details"
   ]
  },
  {
   "cell_type": "code",
   "execution_count": 13,
   "id": "d887e2bb",
   "metadata": {},
   "outputs": [
    {
     "data": {
      "text/plain": [
       "'Pune'"
      ]
     },
     "execution_count": 13,
     "metadata": {},
     "output_type": "execute_result"
    }
   ],
   "source": [
    "emp_details['city']"
   ]
  },
  {
   "cell_type": "code",
   "execution_count": 14,
   "id": "9fc6279a",
   "metadata": {},
   "outputs": [
    {
     "data": {
      "text/plain": [
       "75000"
      ]
     },
     "execution_count": 14,
     "metadata": {},
     "output_type": "execute_result"
    }
   ],
   "source": [
    "emp_details['sal']"
   ]
  },
  {
   "cell_type": "code",
   "execution_count": 15,
   "id": "270bb2e5",
   "metadata": {},
   "outputs": [
    {
     "data": {
      "text/plain": [
       "101"
      ]
     },
     "execution_count": 15,
     "metadata": {},
     "output_type": "execute_result"
    }
   ],
   "source": [
    "emp_details['id']"
   ]
  },
  {
   "cell_type": "code",
   "execution_count": 5,
   "id": "920dfa65",
   "metadata": {},
   "outputs": [
    {
     "data": {
      "text/plain": [
       "{'id': (101, 103, 105, 107),\n",
       " 'name': ['a', 'b', 'c', 'd'],\n",
       " 'city': ['pune', 'mumbai', 'bang', 'chennai']}"
      ]
     },
     "execution_count": 5,
     "metadata": {},
     "output_type": "execute_result"
    }
   ],
   "source": [
    "emp_details"
   ]
  },
  {
   "cell_type": "code",
   "execution_count": 6,
   "id": "446bfd8b",
   "metadata": {},
   "outputs": [
    {
     "data": {
      "text/plain": [
       "'chennai'"
      ]
     },
     "execution_count": 6,
     "metadata": {},
     "output_type": "execute_result"
    }
   ],
   "source": [
    "emp_details['city'][3]"
   ]
  },
  {
   "cell_type": "code",
   "execution_count": 20,
   "id": "00ab96ad",
   "metadata": {},
   "outputs": [
    {
     "data": {
      "text/plain": [
       "{'id': (101, 103, 105, 107),\n",
       " 'name': ['a', 'b', 'c', 'd'],\n",
       " 'city': ['pune', 'mumbai', 'bang', 'chennai']}"
      ]
     },
     "execution_count": 20,
     "metadata": {},
     "output_type": "execute_result"
    }
   ],
   "source": [
    "emp_details"
   ]
  },
  {
   "cell_type": "code",
   "execution_count": 22,
   "id": "189b519a",
   "metadata": {},
   "outputs": [
    {
     "data": {
      "text/plain": [
       "107"
      ]
     },
     "execution_count": 22,
     "metadata": {},
     "output_type": "execute_result"
    }
   ],
   "source": [
    "emp_details['id'][-1]"
   ]
  },
  {
   "cell_type": "code",
   "execution_count": 23,
   "id": "1540a966",
   "metadata": {},
   "outputs": [],
   "source": [
    "emp = {'id':101,'name':'tushar',\"address\":{'city':{\"pin\":411046,'area':'Balajinagar'}}}"
   ]
  },
  {
   "cell_type": "code",
   "execution_count": 24,
   "id": "c171a1bf",
   "metadata": {},
   "outputs": [
    {
     "data": {
      "text/plain": [
       "{'id': 101,\n",
       " 'name': 'tushar',\n",
       " 'address': {'city': {'pin': 411046, 'area': 'Balajinagar'}}}"
      ]
     },
     "execution_count": 24,
     "metadata": {},
     "output_type": "execute_result"
    }
   ],
   "source": [
    "emp"
   ]
  },
  {
   "cell_type": "code",
   "execution_count": 27,
   "id": "25812681",
   "metadata": {},
   "outputs": [
    {
     "data": {
      "text/plain": [
       "'Balajinagar'"
      ]
     },
     "execution_count": 27,
     "metadata": {},
     "output_type": "execute_result"
    }
   ],
   "source": [
    "emp['address']['city']['area']"
   ]
  },
  {
   "cell_type": "code",
   "execution_count": 28,
   "id": "92c5f913",
   "metadata": {},
   "outputs": [],
   "source": [
    "event = {'Records': [{'eventVersion': '2.1', 'eventSource': 'aws:s3', 'awsRegion': 'ap-south-1', 'eventTime': '2024-06-02T01:55:46.674Z', 'eventName': 'ObjectCreated:Put', 'userIdentity': {'principalId': 'A3SLXXLRWMK9HZ'}, 'requestParameters': {'sourceIPAddress': '223.233.82.172'}, 'responseElements': {'x-amz-request-id': 'Y1KH8SD7HGSR0XF1', 'x-amz-id-2': 'dpN9hjkRZx1xOpwmfAg64qpRq4KKzAQIfGDp8yXMxwY1GxDvpTl0Kt2y72lBNjQdJECIBwQOfqZfeR/far477HoNTAwfXrAb'}, 's3': {'s3SchemaVersion': '1.0', 'configurationId': '6cd39e84-fcd0-4bfe-b262-f7cebc258d19', 'bucket': {'name': 'trigger-bucket-sc', 'ownerIdentity': {'principalId': 'A3SLXXLRWMK9HZ'}, 'arn': 'arn:aws:s3:::trigger-bucket-sc'}, 'object': {'key': 'Adv+Python+CODE.txt', 'size': 1150, 'eTag': 'c85d92ba9e997b33977c786e4d811949', 'sequencer': '00665BD122A36A8475'}}}]}\n"
   ]
  },
  {
   "cell_type": "code",
   "execution_count": 29,
   "id": "e056d17b",
   "metadata": {},
   "outputs": [
    {
     "data": {
      "text/plain": [
       "{'Records': [{'eventVersion': '2.1',\n",
       "   'eventSource': 'aws:s3',\n",
       "   'awsRegion': 'ap-south-1',\n",
       "   'eventTime': '2024-06-02T01:55:46.674Z',\n",
       "   'eventName': 'ObjectCreated:Put',\n",
       "   'userIdentity': {'principalId': 'A3SLXXLRWMK9HZ'},\n",
       "   'requestParameters': {'sourceIPAddress': '223.233.82.172'},\n",
       "   'responseElements': {'x-amz-request-id': 'Y1KH8SD7HGSR0XF1',\n",
       "    'x-amz-id-2': 'dpN9hjkRZx1xOpwmfAg64qpRq4KKzAQIfGDp8yXMxwY1GxDvpTl0Kt2y72lBNjQdJECIBwQOfqZfeR/far477HoNTAwfXrAb'},\n",
       "   's3': {'s3SchemaVersion': '1.0',\n",
       "    'configurationId': '6cd39e84-fcd0-4bfe-b262-f7cebc258d19',\n",
       "    'bucket': {'name': 'trigger-bucket-sc',\n",
       "     'ownerIdentity': {'principalId': 'A3SLXXLRWMK9HZ'},\n",
       "     'arn': 'arn:aws:s3:::trigger-bucket-sc'},\n",
       "    'object': {'key': 'Adv+Python+CODE.txt',\n",
       "     'size': 1150,\n",
       "     'eTag': 'c85d92ba9e997b33977c786e4d811949',\n",
       "     'sequencer': '00665BD122A36A8475'}}}]}"
      ]
     },
     "execution_count": 29,
     "metadata": {},
     "output_type": "execute_result"
    }
   ],
   "source": [
    "event"
   ]
  },
  {
   "cell_type": "code",
   "execution_count": null,
   "id": "621ea48f",
   "metadata": {},
   "outputs": [],
   "source": [
    "find out values of below keys?\n",
    "arn\n",
    "x-amz-request-id\n",
    "s3SchemaVersion"
   ]
  },
  {
   "cell_type": "code",
   "execution_count": 30,
   "id": "4e3c779c",
   "metadata": {},
   "outputs": [
    {
     "data": {
      "text/plain": [
       "dict"
      ]
     },
     "execution_count": 30,
     "metadata": {},
     "output_type": "execute_result"
    }
   ],
   "source": [
    "type(event)"
   ]
  },
  {
   "cell_type": "code",
   "execution_count": 36,
   "id": "7a9ae0e6",
   "metadata": {},
   "outputs": [
    {
     "data": {
      "text/plain": [
       "'trigger-bucket-sc'"
      ]
     },
     "execution_count": 36,
     "metadata": {},
     "output_type": "execute_result"
    }
   ],
   "source": [
    "event['Records'][0]['s3']['bucket']['name']"
   ]
  },
  {
   "cell_type": "code",
   "execution_count": 46,
   "id": "334b8ebc",
   "metadata": {},
   "outputs": [
    {
     "data": {
      "text/plain": [
       "'Adv+Python+CODE.txt'"
      ]
     },
     "execution_count": 46,
     "metadata": {},
     "output_type": "execute_result"
    }
   ],
   "source": [
    "event['Records'][0]['s3']['object']['key']"
   ]
  },
  {
   "cell_type": "code",
   "execution_count": 40,
   "id": "e95a78c3",
   "metadata": {},
   "outputs": [],
   "source": [
    "t = {'Records':[{'a':100,'b':200}]}"
   ]
  },
  {
   "cell_type": "code",
   "execution_count": 43,
   "id": "f8692fa1",
   "metadata": {},
   "outputs": [
    {
     "data": {
      "text/plain": [
       "200"
      ]
     },
     "execution_count": 43,
     "metadata": {},
     "output_type": "execute_result"
    }
   ],
   "source": [
    "t['Records'][0]['b']"
   ]
  },
  {
   "cell_type": "code",
   "execution_count": 47,
   "id": "f69f1c15",
   "metadata": {},
   "outputs": [
    {
     "data": {
      "text/plain": [
       "{'id': 101,\n",
       " 'name': 'tushar',\n",
       " 'address': {'city': {'pin': 411046, 'area': 'Balajinagar'}}}"
      ]
     },
     "execution_count": 47,
     "metadata": {},
     "output_type": "execute_result"
    }
   ],
   "source": [
    "emp"
   ]
  },
  {
   "cell_type": "code",
   "execution_count": 48,
   "id": "ccc96243",
   "metadata": {},
   "outputs": [],
   "source": [
    "emp ={'id': 101, 'name': 'Keshav', 'city': 'Pune', 'sal': 75000}"
   ]
  },
  {
   "cell_type": "code",
   "execution_count": 50,
   "id": "f3270c34",
   "metadata": {},
   "outputs": [
    {
     "data": {
      "text/plain": [
       "101"
      ]
     },
     "execution_count": 50,
     "metadata": {},
     "output_type": "execute_result"
    }
   ],
   "source": [
    "emp['id']"
   ]
  },
  {
   "cell_type": "code",
   "execution_count": 51,
   "id": "ddee2479",
   "metadata": {},
   "outputs": [
    {
     "data": {
      "text/plain": [
       "101"
      ]
     },
     "execution_count": 51,
     "metadata": {},
     "output_type": "execute_result"
    }
   ],
   "source": [
    "emp.get('id')"
   ]
  },
  {
   "cell_type": "code",
   "execution_count": 53,
   "id": "20ca22a1",
   "metadata": {},
   "outputs": [
    {
     "ename": "KeyError",
     "evalue": "'sfsdfsdfsdfsdfsdf'",
     "output_type": "error",
     "traceback": [
      "\u001b[1;31m---------------------------------------------------------------------------\u001b[0m",
      "\u001b[1;31mKeyError\u001b[0m                                  Traceback (most recent call last)",
      "\u001b[1;32m<ipython-input-53-c729be0c6d2e>\u001b[0m in \u001b[0;36m<module>\u001b[1;34m\u001b[0m\n\u001b[1;32m----> 1\u001b[1;33m \u001b[0memp\u001b[0m\u001b[1;33m[\u001b[0m\u001b[1;34m'sfsdfsdfsdfsdfsdf'\u001b[0m\u001b[1;33m]\u001b[0m\u001b[1;33m\u001b[0m\u001b[1;33m\u001b[0m\u001b[0m\n\u001b[0m",
      "\u001b[1;31mKeyError\u001b[0m: 'sfsdfsdfsdfsdfsdf'"
     ]
    }
   ],
   "source": [
    "emp['sfsdfsdfsdfsdfsdf']"
   ]
  },
  {
   "cell_type": "code",
   "execution_count": 54,
   "id": "c8701bd5",
   "metadata": {},
   "outputs": [
    {
     "data": {
      "text/plain": [
       "101"
      ]
     },
     "execution_count": 54,
     "metadata": {},
     "output_type": "execute_result"
    }
   ],
   "source": [
    "emp.get('id')"
   ]
  },
  {
   "cell_type": "code",
   "execution_count": 58,
   "id": "7c5a8c01",
   "metadata": {},
   "outputs": [
    {
     "data": {
      "text/plain": [
       "'no key present'"
      ]
     },
     "execution_count": 58,
     "metadata": {},
     "output_type": "execute_result"
    }
   ],
   "source": [
    "emp.get('6546456456','no key present')"
   ]
  },
  {
   "cell_type": "code",
   "execution_count": 59,
   "id": "f388874b",
   "metadata": {},
   "outputs": [
    {
     "data": {
      "text/plain": [
       "{'id': 101, 'name': 'Keshav', 'city': 'Pune', 'sal': 75000}"
      ]
     },
     "execution_count": 59,
     "metadata": {},
     "output_type": "execute_result"
    }
   ],
   "source": [
    "emp"
   ]
  },
  {
   "cell_type": "code",
   "execution_count": 61,
   "id": "4e1ab47f",
   "metadata": {},
   "outputs": [],
   "source": [
    "emp = {'id': 101, 'name': 'Keshav', 'city': 'Pune', 'sal': 75000,'dept':None}"
   ]
  },
  {
   "cell_type": "code",
   "execution_count": 62,
   "id": "44f771b2",
   "metadata": {},
   "outputs": [],
   "source": [
    "emp['dept_loc'] = 'Banglore'"
   ]
  },
  {
   "cell_type": "code",
   "execution_count": 63,
   "id": "2d38fb65",
   "metadata": {},
   "outputs": [
    {
     "data": {
      "text/plain": [
       "{'id': 101,\n",
       " 'name': 'Keshav',\n",
       " 'city': 'Pune',\n",
       " 'sal': 75000,\n",
       " 'dept': None,\n",
       " 'dept_loc': 'Banglore'}"
      ]
     },
     "execution_count": 63,
     "metadata": {},
     "output_type": "execute_result"
    }
   ],
   "source": [
    "emp"
   ]
  },
  {
   "cell_type": "code",
   "execution_count": 64,
   "id": "51e4091a",
   "metadata": {},
   "outputs": [],
   "source": [
    "emp.update({'a':100,'b':200,'c':300})"
   ]
  },
  {
   "cell_type": "code",
   "execution_count": 65,
   "id": "acb1739a",
   "metadata": {},
   "outputs": [
    {
     "data": {
      "text/plain": [
       "{'id': 101,\n",
       " 'name': 'Keshav',\n",
       " 'city': 'Pune',\n",
       " 'sal': 75000,\n",
       " 'dept': None,\n",
       " 'dept_loc': 'Banglore',\n",
       " 'a': 100,\n",
       " 'b': 200,\n",
       " 'c': 300}"
      ]
     },
     "execution_count": 65,
     "metadata": {},
     "output_type": "execute_result"
    }
   ],
   "source": [
    "emp"
   ]
  },
  {
   "cell_type": "code",
   "execution_count": null,
   "id": "69cd22f7",
   "metadata": {},
   "outputs": [],
   "source": [
    "dict[key]\n",
    "dict.get(key,defaultvalue)\n",
    "dict[key]=value\n",
    "dict.update({dict})"
   ]
  },
  {
   "cell_type": "code",
   "execution_count": 66,
   "id": "e8dd39c1",
   "metadata": {},
   "outputs": [
    {
     "data": {
      "text/plain": [
       "{'id': 101,\n",
       " 'name': 'Keshav',\n",
       " 'city': 'Pune',\n",
       " 'sal': 75000,\n",
       " 'dept': None,\n",
       " 'dept_loc': 'Banglore',\n",
       " 'a': 100,\n",
       " 'b': 200,\n",
       " 'c': 300}"
      ]
     },
     "execution_count": 66,
     "metadata": {},
     "output_type": "execute_result"
    }
   ],
   "source": [
    "emp"
   ]
  },
  {
   "cell_type": "code",
   "execution_count": 67,
   "id": "cff5b103",
   "metadata": {},
   "outputs": [
    {
     "data": {
      "text/plain": [
       "dict_keys(['id', 'name', 'city', 'sal', 'dept', 'dept_loc', 'a', 'b', 'c'])"
      ]
     },
     "execution_count": 67,
     "metadata": {},
     "output_type": "execute_result"
    }
   ],
   "source": [
    "emp.keys()"
   ]
  },
  {
   "cell_type": "code",
   "execution_count": 68,
   "id": "ccc5a9d0",
   "metadata": {},
   "outputs": [
    {
     "data": {
      "text/plain": [
       "dict_values([101, 'Keshav', 'Pune', 75000, None, 'Banglore', 100, 200, 300])"
      ]
     },
     "execution_count": 68,
     "metadata": {},
     "output_type": "execute_result"
    }
   ],
   "source": [
    "emp.values()"
   ]
  },
  {
   "cell_type": "code",
   "execution_count": 69,
   "id": "3d8b522a",
   "metadata": {},
   "outputs": [
    {
     "data": {
      "text/plain": [
       "dict_items([('id', 101), ('name', 'Keshav'), ('city', 'Pune'), ('sal', 75000), ('dept', None), ('dept_loc', 'Banglore'), ('a', 100), ('b', 200), ('c', 300)])"
      ]
     },
     "execution_count": 69,
     "metadata": {},
     "output_type": "execute_result"
    }
   ],
   "source": [
    "emp.items()"
   ]
  },
  {
   "cell_type": "code",
   "execution_count": 73,
   "id": "8a0e1cda",
   "metadata": {},
   "outputs": [],
   "source": [
    "temp = {'a':100,'b':200,'c':300,'d':100,'a':900,'a':'python','a':500}"
   ]
  },
  {
   "cell_type": "code",
   "execution_count": 74,
   "id": "19eb4792",
   "metadata": {},
   "outputs": [
    {
     "data": {
      "text/plain": [
       "{'a': 500, 'b': 200, 'c': 300, 'd': 100}"
      ]
     },
     "execution_count": 74,
     "metadata": {},
     "output_type": "execute_result"
    }
   ],
   "source": [
    "temp"
   ]
  },
  {
   "cell_type": "code",
   "execution_count": 75,
   "id": "181f51f8",
   "metadata": {},
   "outputs": [],
   "source": [
    "t = {'id': 101,\n",
    " 'name': 'Keshav',\n",
    " 'city': 'Pune',\n",
    " 'sal': 75000,\n",
    " 'dept': None,\n",
    " 'dept_loc': 'Banglore',\n",
    " 'a': 100,\n",
    " 'b': 200,\n",
    " 'c': 300}"
   ]
  },
  {
   "cell_type": "code",
   "execution_count": 76,
   "id": "99f94900",
   "metadata": {},
   "outputs": [
    {
     "data": {
      "text/plain": [
       "{'id': 101,\n",
       " 'name': 'Keshav',\n",
       " 'city': 'Pune',\n",
       " 'sal': 75000,\n",
       " 'dept': None,\n",
       " 'dept_loc': 'Banglore',\n",
       " 'a': 100,\n",
       " 'b': 200,\n",
       " 'c': 300}"
      ]
     },
     "execution_count": 76,
     "metadata": {},
     "output_type": "execute_result"
    }
   ],
   "source": [
    "t"
   ]
  },
  {
   "cell_type": "code",
   "execution_count": 77,
   "id": "c0dc9c30",
   "metadata": {},
   "outputs": [
    {
     "data": {
      "text/plain": [
       "100"
      ]
     },
     "execution_count": 77,
     "metadata": {},
     "output_type": "execute_result"
    }
   ],
   "source": [
    "t.get('a')"
   ]
  },
  {
   "cell_type": "code",
   "execution_count": 78,
   "id": "814d594e",
   "metadata": {},
   "outputs": [],
   "source": [
    "event = {'Records': [{'eventVersion': '2.1',\n",
    "   'eventSource': 'aws:s3',\n",
    "   'awsRegion': 'ap-south-1',\n",
    "   'eventTime': '2024-06-02T01:55:46.674Z',\n",
    "   'eventName': 'ObjectCreated:Put',\n",
    "   'userIdentity': {'principalId': 'A3SLXXLRWMK9HZ'},\n",
    "   'requestParameters': {'sourceIPAddress': '223.233.82.172'},\n",
    "   'responseElements': {'x-amz-request-id': 'Y1KH8SD7HGSR0XF1',\n",
    "    'x-amz-id-2': 'dpN9hjkRZx1xOpwmfAg64qpRq4KKzAQIfGDp8yXMxwY1GxDvpTl0Kt2y72lBNjQdJECIBwQOfqZfeR/far477HoNTAwfXrAb'},\n",
    "   's3': {'s3SchemaVersion': '1.0',\n",
    "    'configurationId': '6cd39e84-fcd0-4bfe-b262-f7cebc258d19',\n",
    "    'bucket': {'name': 'trigger-bucket-sc',\n",
    "     'ownerIdentity': {'principalId': 'A3SLXXLRWMK9HZ'},\n",
    "     'arn': 'arn:aws:s3:::trigger-bucket-sc'},\n",
    "    'object': {'key': 'Adv+Python+CODE.txt',\n",
    "     'size': 1150,\n",
    "     'eTag': 'c85d92ba9e997b33977c786e4d811949',\n",
    "     'sequencer': '00665BD122A36A8475'}}}]}"
   ]
  },
  {
   "cell_type": "code",
   "execution_count": 92,
   "id": "9443f09d",
   "metadata": {},
   "outputs": [
    {
     "data": {
      "text/plain": [
       "1150"
      ]
     },
     "execution_count": 92,
     "metadata": {},
     "output_type": "execute_result"
    }
   ],
   "source": [
    "event.get('Records')[0].get('s3').get('object').get('size')"
   ]
  }
 ],
 "metadata": {
  "kernelspec": {
   "display_name": "Python 3 (ipykernel)",
   "language": "python",
   "name": "python3"
  },
  "language_info": {
   "codemirror_mode": {
    "name": "ipython",
    "version": 3
   },
   "file_extension": ".py",
   "mimetype": "text/x-python",
   "name": "python",
   "nbconvert_exporter": "python",
   "pygments_lexer": "ipython3",
   "version": "3.12.4"
  }
 },
 "nbformat": 4,
 "nbformat_minor": 5
}
