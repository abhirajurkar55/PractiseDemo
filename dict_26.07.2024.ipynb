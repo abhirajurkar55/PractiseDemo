{
 "cells": [
  {
   "cell_type": "code",
   "execution_count": null,
   "id": "05f1bd27",
   "metadata": {},
   "outputs": [],
   "source": [
    "dict:\n",
    "    it is collection of \n",
    "    \n",
    "    items : key:value pair\n",
    "            \n",
    "    keys : are immutable type\n",
    "        \n",
    "    values : mutable or immuatble type\n",
    "        "
   ]
  },
  {
   "cell_type": "code",
   "execution_count": null,
   "id": "fdaf53ab",
   "metadata": {},
   "outputs": [],
   "source": [
    "value from dict :\n",
    "    "
   ]
  },
  {
   "cell_type": "code",
   "execution_count": null,
   "id": "42fc3097",
   "metadata": {},
   "outputs": [],
   "source": [
    "fetch value from dict\n",
    "add item \n",
    "multiple update dict\n"
   ]
  },
  {
   "cell_type": "code",
   "execution_count": 1,
   "id": "4bcc4e86",
   "metadata": {},
   "outputs": [],
   "source": [
    "event = {'Records': [{'eventVersion': '2.1', 'eventSource': 'aws:s3', 'awsRegion': 'ap-south-1', 'eventTime': '2024-06-02T01:55:46.674Z', 'eventName': 'ObjectCreated:Put', 'userIdentity': {'principalId': 'A3SLXXLRWMK9HZ'}, 'requestParameters': {'sourceIPAddress': '223.233.82.172'}, 'responseElements': {'x-amz-request-id': 'Y1KH8SD7HGSR0XF1', 'x-amz-id-2': 'dpN9hjkRZx1xOpwmfAg64qpRq4KKzAQIfGDp8yXMxwY1GxDvpTl0Kt2y72lBNjQdJECIBwQOfqZfeR/far477HoNTAwfXrAb'}, 's3': {'s3SchemaVersion': '1.0', 'configurationId': '6cd39e84-fcd0-4bfe-b262-f7cebc258d19', 'bucket': {'name': 'trigger-bucket-sc', 'ownerIdentity': {'principalId': 'A3SLXXLRWMK9HZ'}, 'arn': 'arn:aws:s3:::trigger-bucket-sc'}, 'object': {'key': 'Adv+Python+CODE.txt', 'size': 1150, 'eTag': 'c85d92ba9e997b33977c786e4d811949', 'sequencer': '00665BD122A36A8475'}}}]}\n"
   ]
  },
  {
   "cell_type": "code",
   "execution_count": null,
   "id": "ebd4dd1f",
   "metadata": {},
   "outputs": [],
   "source": []
  },
  {
   "cell_type": "code",
   "execution_count": 2,
   "id": "b2d4485a",
   "metadata": {},
   "outputs": [
    {
     "data": {
      "text/plain": [
       "{'Records': [{'eventVersion': '2.1',\n",
       "   'eventSource': 'aws:s3',\n",
       "   'awsRegion': 'ap-south-1',\n",
       "   'eventTime': '2024-06-02T01:55:46.674Z',\n",
       "   'eventName': 'ObjectCreated:Put',\n",
       "   'userIdentity': {'principalId': 'A3SLXXLRWMK9HZ'},\n",
       "   'requestParameters': {'sourceIPAddress': '223.233.82.172'},\n",
       "   'responseElements': {'x-amz-request-id': 'Y1KH8SD7HGSR0XF1',\n",
       "    'x-amz-id-2': 'dpN9hjkRZx1xOpwmfAg64qpRq4KKzAQIfGDp8yXMxwY1GxDvpTl0Kt2y72lBNjQdJECIBwQOfqZfeR/far477HoNTAwfXrAb'},\n",
       "   's3': {'s3SchemaVersion': '1.0',\n",
       "    'configurationId': '6cd39e84-fcd0-4bfe-b262-f7cebc258d19',\n",
       "    'bucket': {'name': 'trigger-bucket-sc',\n",
       "     'ownerIdentity': {'principalId': 'A3SLXXLRWMK9HZ'},\n",
       "     'arn': 'arn:aws:s3:::trigger-bucket-sc'},\n",
       "    'object': {'key': 'Adv+Python+CODE.txt',\n",
       "     'size': 1150,\n",
       "     'eTag': 'c85d92ba9e997b33977c786e4d811949',\n",
       "     'sequencer': '00665BD122A36A8475'}}}]}"
      ]
     },
     "execution_count": 2,
     "metadata": {},
     "output_type": "execute_result"
    }
   ],
   "source": [
    "event"
   ]
  },
  {
   "cell_type": "code",
   "execution_count": 3,
   "id": "6378aebb",
   "metadata": {},
   "outputs": [
    {
     "data": {
      "text/plain": [
       "{'Records': [{'eventVersion': '2.1',\n",
       "   'eventSource': 'aws:s3',\n",
       "   'awsRegion': 'ap-south-1',\n",
       "   'eventTime': '2024-06-02T01:55:46.674Z',\n",
       "   'eventName': 'ObjectCreated:Put',\n",
       "   'userIdentity': {'principalId': 'A3SLXXLRWMK9HZ'},\n",
       "   'requestParameters': {'sourceIPAddress': '223.233.82.172'},\n",
       "   'responseElements': {'x-amz-request-id': 'Y1KH8SD7HGSR0XF1',\n",
       "    'x-amz-id-2': 'dpN9hjkRZx1xOpwmfAg64qpRq4KKzAQIfGDp8yXMxwY1GxDvpTl0Kt2y72lBNjQdJECIBwQOfqZfeR/far477HoNTAwfXrAb'},\n",
       "   's3': {'s3SchemaVersion': '1.0',\n",
       "    'configurationId': '6cd39e84-fcd0-4bfe-b262-f7cebc258d19',\n",
       "    'bucket': {'name': 'trigger-bucket-sc',\n",
       "     'ownerIdentity': {'principalId': 'A3SLXXLRWMK9HZ'},\n",
       "     'arn': 'arn:aws:s3:::trigger-bucket-sc'},\n",
       "    'object': {'key': 'Adv+Python+CODE.txt',\n",
       "     'size': 1150,\n",
       "     'eTag': 'c85d92ba9e997b33977c786e4d811949',\n",
       "     'sequencer': '00665BD122A36A8475'}}}]}"
      ]
     },
     "execution_count": 3,
     "metadata": {},
     "output_type": "execute_result"
    }
   ],
   "source": [
    "event"
   ]
  },
  {
   "cell_type": "code",
   "execution_count": 22,
   "id": "c3de591b",
   "metadata": {},
   "outputs": [],
   "source": [
    "emp = {'id':105,'name':'tushar','sal':79494,'city':'Pune'}"
   ]
  },
  {
   "cell_type": "code",
   "execution_count": 5,
   "id": "76722185",
   "metadata": {},
   "outputs": [
    {
     "data": {
      "text/plain": [
       "{'id': 105, 'name': 'tushar', 'sal': 79494, 'city': 'Pune'}"
      ]
     },
     "execution_count": 5,
     "metadata": {},
     "output_type": "execute_result"
    }
   ],
   "source": [
    "emp"
   ]
  },
  {
   "cell_type": "code",
   "execution_count": 6,
   "id": "49620207",
   "metadata": {},
   "outputs": [
    {
     "data": {
      "text/plain": [
       "dict_keys(['id', 'name', 'sal', 'city'])"
      ]
     },
     "execution_count": 6,
     "metadata": {},
     "output_type": "execute_result"
    }
   ],
   "source": [
    "emp.keys()"
   ]
  },
  {
   "cell_type": "code",
   "execution_count": 7,
   "id": "c0e42dab",
   "metadata": {},
   "outputs": [
    {
     "data": {
      "text/plain": [
       "dict_items([('id', 105), ('name', 'tushar'), ('sal', 79494), ('city', 'Pune')])"
      ]
     },
     "execution_count": 7,
     "metadata": {},
     "output_type": "execute_result"
    }
   ],
   "source": [
    "emp.items()"
   ]
  },
  {
   "cell_type": "code",
   "execution_count": 8,
   "id": "4fa22075",
   "metadata": {},
   "outputs": [
    {
     "data": {
      "text/plain": [
       "dict_values([105, 'tushar', 79494, 'Pune'])"
      ]
     },
     "execution_count": 8,
     "metadata": {},
     "output_type": "execute_result"
    }
   ],
   "source": [
    "emp.values()"
   ]
  },
  {
   "cell_type": "code",
   "execution_count": null,
   "id": "ec1aedc2",
   "metadata": {},
   "outputs": [],
   "source": [
    "Deletion on Dict:"
   ]
  },
  {
   "cell_type": "code",
   "execution_count": null,
   "id": "2dabc72b",
   "metadata": {},
   "outputs": [],
   "source": [
    "pop\n",
    "popitem\n",
    "clear"
   ]
  },
  {
   "cell_type": "code",
   "execution_count": 9,
   "id": "d5cb39fd",
   "metadata": {},
   "outputs": [
    {
     "data": {
      "text/plain": [
       "{'id': 105, 'name': 'tushar', 'sal': 79494, 'city': 'Pune'}"
      ]
     },
     "execution_count": 9,
     "metadata": {},
     "output_type": "execute_result"
    }
   ],
   "source": [
    "emp"
   ]
  },
  {
   "cell_type": "code",
   "execution_count": 10,
   "id": "995e1edd",
   "metadata": {},
   "outputs": [
    {
     "data": {
      "text/plain": [
       "'Pune'"
      ]
     },
     "execution_count": 10,
     "metadata": {},
     "output_type": "execute_result"
    }
   ],
   "source": [
    "emp.pop('city')"
   ]
  },
  {
   "cell_type": "code",
   "execution_count": 11,
   "id": "f33b159a",
   "metadata": {},
   "outputs": [
    {
     "data": {
      "text/plain": [
       "{'id': 105, 'name': 'tushar', 'sal': 79494}"
      ]
     },
     "execution_count": 11,
     "metadata": {},
     "output_type": "execute_result"
    }
   ],
   "source": [
    "emp"
   ]
  },
  {
   "cell_type": "code",
   "execution_count": 12,
   "id": "a3087109",
   "metadata": {},
   "outputs": [
    {
     "ename": "KeyError",
     "evalue": "'sdfsdafsdaf'",
     "output_type": "error",
     "traceback": [
      "\u001b[1;31m---------------------------------------------------------------------------\u001b[0m",
      "\u001b[1;31mKeyError\u001b[0m                                  Traceback (most recent call last)",
      "\u001b[1;32m<ipython-input-12-a879ea7b4c9a>\u001b[0m in \u001b[0;36m<module>\u001b[1;34m\u001b[0m\n\u001b[1;32m----> 1\u001b[1;33m \u001b[0memp\u001b[0m\u001b[1;33m.\u001b[0m\u001b[0mpop\u001b[0m\u001b[1;33m(\u001b[0m\u001b[1;34m\"sdfsdafsdaf\"\u001b[0m\u001b[1;33m)\u001b[0m\u001b[1;33m\u001b[0m\u001b[1;33m\u001b[0m\u001b[0m\n\u001b[0m",
      "\u001b[1;31mKeyError\u001b[0m: 'sdfsdafsdaf'"
     ]
    }
   ],
   "source": [
    "emp.pop(\"sdfsdafsdaf\")"
   ]
  },
  {
   "cell_type": "code",
   "execution_count": 13,
   "id": "6cf2ba52",
   "metadata": {},
   "outputs": [
    {
     "ename": "KeyError",
     "evalue": "105",
     "output_type": "error",
     "traceback": [
      "\u001b[1;31m---------------------------------------------------------------------------\u001b[0m",
      "\u001b[1;31mKeyError\u001b[0m                                  Traceback (most recent call last)",
      "\u001b[1;32m<ipython-input-13-213a867202f8>\u001b[0m in \u001b[0;36m<module>\u001b[1;34m\u001b[0m\n\u001b[1;32m----> 1\u001b[1;33m \u001b[0memp\u001b[0m\u001b[1;33m.\u001b[0m\u001b[0mpop\u001b[0m\u001b[1;33m(\u001b[0m\u001b[1;36m105\u001b[0m\u001b[1;33m)\u001b[0m\u001b[1;33m\u001b[0m\u001b[1;33m\u001b[0m\u001b[0m\n\u001b[0m",
      "\u001b[1;31mKeyError\u001b[0m: 105"
     ]
    }
   ],
   "source": [
    "emp.pop(105)"
   ]
  },
  {
   "cell_type": "code",
   "execution_count": 14,
   "id": "9e6efa96",
   "metadata": {},
   "outputs": [
    {
     "data": {
      "text/plain": [
       "{'id': 105, 'name': 'tushar', 'sal': 79494}"
      ]
     },
     "execution_count": 14,
     "metadata": {},
     "output_type": "execute_result"
    }
   ],
   "source": [
    "emp"
   ]
  },
  {
   "cell_type": "code",
   "execution_count": 15,
   "id": "81ddfdb6",
   "metadata": {},
   "outputs": [],
   "source": [
    "emp.update({\"a\":100,'b':200,'c':300})"
   ]
  },
  {
   "cell_type": "code",
   "execution_count": 16,
   "id": "89dc8914",
   "metadata": {},
   "outputs": [
    {
     "data": {
      "text/plain": [
       "('c', 300)"
      ]
     },
     "execution_count": 16,
     "metadata": {},
     "output_type": "execute_result"
    }
   ],
   "source": [
    "emp.popitem()"
   ]
  },
  {
   "cell_type": "code",
   "execution_count": 17,
   "id": "97e3b3f1",
   "metadata": {},
   "outputs": [
    {
     "data": {
      "text/plain": [
       "('b', 200)"
      ]
     },
     "execution_count": 17,
     "metadata": {},
     "output_type": "execute_result"
    }
   ],
   "source": [
    "emp.popitem()"
   ]
  },
  {
   "cell_type": "code",
   "execution_count": 18,
   "id": "2f89f58e",
   "metadata": {},
   "outputs": [
    {
     "data": {
      "text/plain": [
       "('a', 100)"
      ]
     },
     "execution_count": 18,
     "metadata": {},
     "output_type": "execute_result"
    }
   ],
   "source": [
    "emp.popitem()"
   ]
  },
  {
   "cell_type": "code",
   "execution_count": 19,
   "id": "3e543546",
   "metadata": {},
   "outputs": [
    {
     "data": {
      "text/plain": [
       "('sal', 79494)"
      ]
     },
     "execution_count": 19,
     "metadata": {},
     "output_type": "execute_result"
    }
   ],
   "source": [
    "emp.popitem()"
   ]
  },
  {
   "cell_type": "code",
   "execution_count": 20,
   "id": "7bca8161",
   "metadata": {},
   "outputs": [
    {
     "data": {
      "text/plain": [
       "{'id': 105, 'name': 'tushar'}"
      ]
     },
     "execution_count": 20,
     "metadata": {},
     "output_type": "execute_result"
    }
   ],
   "source": [
    "emp"
   ]
  },
  {
   "cell_type": "code",
   "execution_count": 21,
   "id": "1de53abc",
   "metadata": {},
   "outputs": [
    {
     "ename": "TypeError",
     "evalue": "popitem() takes no arguments (1 given)",
     "output_type": "error",
     "traceback": [
      "\u001b[1;31m---------------------------------------------------------------------------\u001b[0m",
      "\u001b[1;31mTypeError\u001b[0m                                 Traceback (most recent call last)",
      "\u001b[1;32m<ipython-input-21-013596ee9321>\u001b[0m in \u001b[0;36m<module>\u001b[1;34m\u001b[0m\n\u001b[1;32m----> 1\u001b[1;33m \u001b[0memp\u001b[0m\u001b[1;33m.\u001b[0m\u001b[0mpopitem\u001b[0m\u001b[1;33m(\u001b[0m\u001b[1;34m'id'\u001b[0m\u001b[1;33m)\u001b[0m\u001b[1;33m\u001b[0m\u001b[1;33m\u001b[0m\u001b[0m\n\u001b[0m",
      "\u001b[1;31mTypeError\u001b[0m: popitem() takes no arguments (1 given)"
     ]
    }
   ],
   "source": [
    "emp.popitem('id')"
   ]
  },
  {
   "cell_type": "code",
   "execution_count": 24,
   "id": "323e3d7d",
   "metadata": {},
   "outputs": [
    {
     "data": {
      "text/plain": [
       "79494"
      ]
     },
     "execution_count": 24,
     "metadata": {},
     "output_type": "execute_result"
    }
   ],
   "source": [
    "emp.pop('sal')"
   ]
  },
  {
   "cell_type": "code",
   "execution_count": 25,
   "id": "0f139391",
   "metadata": {},
   "outputs": [
    {
     "data": {
      "text/plain": [
       "{'id': 105, 'name': 'tushar', 'city': 'Pune'}"
      ]
     },
     "execution_count": 25,
     "metadata": {},
     "output_type": "execute_result"
    }
   ],
   "source": [
    "emp"
   ]
  },
  {
   "cell_type": "code",
   "execution_count": 26,
   "id": "9de94d84",
   "metadata": {},
   "outputs": [],
   "source": [
    "p = [34,76,45,65]"
   ]
  },
  {
   "cell_type": "code",
   "execution_count": 27,
   "id": "a78db129",
   "metadata": {},
   "outputs": [
    {
     "data": {
      "text/plain": [
       "76"
      ]
     },
     "execution_count": 27,
     "metadata": {},
     "output_type": "execute_result"
    }
   ],
   "source": [
    "p.pop(1)"
   ]
  },
  {
   "cell_type": "code",
   "execution_count": 28,
   "id": "ef196b49",
   "metadata": {},
   "outputs": [
    {
     "data": {
      "text/plain": [
       "[34, 45, 65]"
      ]
     },
     "execution_count": 28,
     "metadata": {},
     "output_type": "execute_result"
    }
   ],
   "source": [
    "p"
   ]
  },
  {
   "cell_type": "code",
   "execution_count": 30,
   "id": "1dab122f",
   "metadata": {},
   "outputs": [
    {
     "data": {
      "text/plain": [
       "('city', 'Pune')"
      ]
     },
     "execution_count": 30,
     "metadata": {},
     "output_type": "execute_result"
    }
   ],
   "source": [
    "emp.popitem()"
   ]
  },
  {
   "cell_type": "code",
   "execution_count": 31,
   "id": "64042d62",
   "metadata": {},
   "outputs": [
    {
     "data": {
      "text/plain": [
       "{'id': 105, 'name': 'tushar'}"
      ]
     },
     "execution_count": 31,
     "metadata": {},
     "output_type": "execute_result"
    }
   ],
   "source": [
    "emp"
   ]
  },
  {
   "cell_type": "code",
   "execution_count": 32,
   "id": "bf3095e2",
   "metadata": {},
   "outputs": [],
   "source": [
    "emp.clear()"
   ]
  },
  {
   "cell_type": "code",
   "execution_count": 33,
   "id": "41f44e7b",
   "metadata": {},
   "outputs": [
    {
     "data": {
      "text/plain": [
       "{}"
      ]
     },
     "execution_count": 33,
     "metadata": {},
     "output_type": "execute_result"
    }
   ],
   "source": [
    "emp"
   ]
  },
  {
   "cell_type": "code",
   "execution_count": 69,
   "id": "141ccfa7",
   "metadata": {},
   "outputs": [],
   "source": [
    "emp = {'id':105,'name':'tushar','sal':79494,'city':'Pune'}"
   ]
  },
  {
   "cell_type": "code",
   "execution_count": 35,
   "id": "f15c3a34",
   "metadata": {},
   "outputs": [],
   "source": [
    "#updation"
   ]
  },
  {
   "cell_type": "code",
   "execution_count": 37,
   "id": "6a6674d6",
   "metadata": {},
   "outputs": [],
   "source": [
    "emp['sal'] = 150000"
   ]
  },
  {
   "cell_type": "code",
   "execution_count": 38,
   "id": "36b90108",
   "metadata": {},
   "outputs": [
    {
     "data": {
      "text/plain": [
       "{'id': 105, 'name': 'tushar', 'sal': 150000, 'city': 'Pune'}"
      ]
     },
     "execution_count": 38,
     "metadata": {},
     "output_type": "execute_result"
    }
   ],
   "source": [
    "emp"
   ]
  },
  {
   "cell_type": "code",
   "execution_count": 39,
   "id": "5c597268",
   "metadata": {},
   "outputs": [],
   "source": [
    "emp['city'] = 'mumbai'"
   ]
  },
  {
   "cell_type": "code",
   "execution_count": 40,
   "id": "29b633d7",
   "metadata": {},
   "outputs": [
    {
     "data": {
      "text/plain": [
       "{'id': 105, 'name': 'tushar', 'sal': 150000, 'city': 'mumbai'}"
      ]
     },
     "execution_count": 40,
     "metadata": {},
     "output_type": "execute_result"
    }
   ],
   "source": [
    "emp"
   ]
  },
  {
   "cell_type": "code",
   "execution_count": 41,
   "id": "f16a52f2",
   "metadata": {},
   "outputs": [],
   "source": [
    "emp.update({'id':205,'sal':250000,'city':'Banglore'})"
   ]
  },
  {
   "cell_type": "code",
   "execution_count": 42,
   "id": "70a3a322",
   "metadata": {},
   "outputs": [
    {
     "data": {
      "text/plain": [
       "{'id': 205, 'name': 'tushar', 'sal': 250000, 'city': 'Banglore'}"
      ]
     },
     "execution_count": 42,
     "metadata": {},
     "output_type": "execute_result"
    }
   ],
   "source": [
    "emp"
   ]
  },
  {
   "cell_type": "code",
   "execution_count": null,
   "id": "957c44a6",
   "metadata": {},
   "outputs": [],
   "source": [
    "dict:\n",
    "    key : value - np\n",
    "    add single key ,multipl - np\n",
    "    delete key/item -np\n",
    "    update - single ,multiple - np"
   ]
  },
  {
   "cell_type": "code",
   "execution_count": 43,
   "id": "23792229",
   "metadata": {},
   "outputs": [
    {
     "data": {
      "text/plain": [
       "{'id': 205, 'name': 'tushar', 'sal': 250000, 'city': 'Banglore'}"
      ]
     },
     "execution_count": 43,
     "metadata": {},
     "output_type": "execute_result"
    }
   ],
   "source": [
    "emp"
   ]
  },
  {
   "cell_type": "code",
   "execution_count": null,
   "id": "afa5c3da",
   "metadata": {},
   "outputs": [],
   "source": [
    "fromkeys\n",
    "setdefault"
   ]
  },
  {
   "cell_type": "code",
   "execution_count": null,
   "id": "066c9c6c",
   "metadata": {},
   "outputs": [],
   "source": [
    "dict :\n",
    "    key:value"
   ]
  },
  {
   "cell_type": "code",
   "execution_count": null,
   "id": "2ecc425a",
   "metadata": {},
   "outputs": [],
   "source": [
    "dict : keys  values"
   ]
  },
  {
   "cell_type": "code",
   "execution_count": 44,
   "id": "d0424718",
   "metadata": {},
   "outputs": [],
   "source": [
    "emp = {'id':None,'name':None,'sal':None,'city':None}"
   ]
  },
  {
   "cell_type": "code",
   "execution_count": 61,
   "id": "40f67ef1",
   "metadata": {},
   "outputs": [],
   "source": [
    "k = ('id','name','sal','city','dept')"
   ]
  },
  {
   "cell_type": "code",
   "execution_count": 62,
   "id": "c6de5cbc",
   "metadata": {},
   "outputs": [],
   "source": [
    "temp = {}"
   ]
  },
  {
   "cell_type": "code",
   "execution_count": 64,
   "id": "a986f305",
   "metadata": {},
   "outputs": [],
   "source": [
    "test =  temp.fromkeys(k)"
   ]
  },
  {
   "cell_type": "code",
   "execution_count": 65,
   "id": "70baff36",
   "metadata": {},
   "outputs": [
    {
     "data": {
      "text/plain": [
       "{'id': None, 'name': None, 'sal': None, 'city': None, 'dept': None}"
      ]
     },
     "execution_count": 65,
     "metadata": {},
     "output_type": "execute_result"
    }
   ],
   "source": [
    "test"
   ]
  },
  {
   "cell_type": "code",
   "execution_count": 66,
   "id": "af91cf6d",
   "metadata": {},
   "outputs": [],
   "source": [
    "test.update({'id':502,'name':'test'})"
   ]
  },
  {
   "cell_type": "code",
   "execution_count": 67,
   "id": "db052473",
   "metadata": {},
   "outputs": [
    {
     "data": {
      "text/plain": [
       "{'id': 502, 'name': 'test', 'sal': None, 'city': None, 'dept': None}"
      ]
     },
     "execution_count": 67,
     "metadata": {},
     "output_type": "execute_result"
    }
   ],
   "source": [
    "test"
   ]
  },
  {
   "cell_type": "code",
   "execution_count": 70,
   "id": "def855cb",
   "metadata": {},
   "outputs": [
    {
     "data": {
      "text/plain": [
       "{'id': 105, 'name': 'tushar', 'sal': 79494, 'city': 'Pune'}"
      ]
     },
     "execution_count": 70,
     "metadata": {},
     "output_type": "execute_result"
    }
   ],
   "source": [
    "emp"
   ]
  },
  {
   "cell_type": "code",
   "execution_count": null,
   "id": "5eba326f",
   "metadata": {},
   "outputs": [],
   "source": [
    "setdefault:\n",
    "    if key present then do nothing\n",
    "    if not then add new item"
   ]
  },
  {
   "cell_type": "code",
   "execution_count": 71,
   "id": "944e3c9f",
   "metadata": {},
   "outputs": [
    {
     "data": {
      "text/plain": [
       "105"
      ]
     },
     "execution_count": 71,
     "metadata": {},
     "output_type": "execute_result"
    }
   ],
   "source": [
    "emp.setdefault('id',500)"
   ]
  },
  {
   "cell_type": "code",
   "execution_count": 72,
   "id": "72fbfba8",
   "metadata": {},
   "outputs": [
    {
     "data": {
      "text/plain": [
       "{'id': 105, 'name': 'tushar', 'sal': 79494, 'city': 'Pune'}"
      ]
     },
     "execution_count": 72,
     "metadata": {},
     "output_type": "execute_result"
    }
   ],
   "source": [
    "emp"
   ]
  },
  {
   "cell_type": "code",
   "execution_count": 73,
   "id": "64fe3cfe",
   "metadata": {},
   "outputs": [
    {
     "data": {
      "text/plain": [
       "'Admin'"
      ]
     },
     "execution_count": 73,
     "metadata": {},
     "output_type": "execute_result"
    }
   ],
   "source": [
    "emp.setdefault('department','Admin')"
   ]
  },
  {
   "cell_type": "code",
   "execution_count": 74,
   "id": "c2671fd1",
   "metadata": {},
   "outputs": [
    {
     "data": {
      "text/plain": [
       "{'id': 105,\n",
       " 'name': 'tushar',\n",
       " 'sal': 79494,\n",
       " 'city': 'Pune',\n",
       " 'department': 'Admin'}"
      ]
     },
     "execution_count": 74,
     "metadata": {},
     "output_type": "execute_result"
    }
   ],
   "source": [
    "emp"
   ]
  },
  {
   "cell_type": "code",
   "execution_count": 76,
   "id": "bc12cc63",
   "metadata": {},
   "outputs": [],
   "source": [
    "emp.update({'deptloc':'pune'})"
   ]
  },
  {
   "cell_type": "code",
   "execution_count": 77,
   "id": "ddcf7008",
   "metadata": {},
   "outputs": [
    {
     "data": {
      "text/plain": [
       "{'id': 105,\n",
       " 'name': 'tushar',\n",
       " 'sal': 79494,\n",
       " 'city': 'Pune',\n",
       " 'department': 'Admin',\n",
       " 'deptloc': 'pune'}"
      ]
     },
     "execution_count": 77,
     "metadata": {},
     "output_type": "execute_result"
    }
   ],
   "source": [
    "emp"
   ]
  },
  {
   "cell_type": "code",
   "execution_count": 78,
   "id": "46768c69",
   "metadata": {},
   "outputs": [
    {
     "ename": "SyntaxError",
     "evalue": "invalid syntax (<ipython-input-78-ea6c8f064488>, line 2)",
     "output_type": "error",
     "traceback": [
      "\u001b[1;36m  File \u001b[1;32m\"<ipython-input-78-ea6c8f064488>\"\u001b[1;36m, line \u001b[1;32m2\u001b[0m\n\u001b[1;33m    keys() : return all keys\u001b[0m\n\u001b[1;37m             ^\u001b[0m\n\u001b[1;31mSyntaxError\u001b[0m\u001b[1;31m:\u001b[0m invalid syntax\n"
     ]
    }
   ],
   "source": [
    "get(key,default)\n",
    "keys() : return all keys\n",
    "values() : return all values\n",
    "items(): return all items\n",
    "pop(key): delete item using key\n",
    "popitem(): delete item in LIFO order\n",
    "clear() : delete all items\n",
    "fromkeys(keys):construct dict from keys only\n",
    "setdefault(key,value) : if key then do nothing ,if not then add new key,value pair/item"
   ]
  },
  {
   "cell_type": "code",
   "execution_count": null,
   "id": "c8fab3df",
   "metadata": {},
   "outputs": [],
   "source": []
  }
 ],
 "metadata": {
  "kernelspec": {
   "display_name": "Python 3 (ipykernel)",
   "language": "python",
   "name": "python3"
  },
  "language_info": {
   "codemirror_mode": {
    "name": "ipython",
    "version": 3
   },
   "file_extension": ".py",
   "mimetype": "text/x-python",
   "name": "python",
   "nbconvert_exporter": "python",
   "pygments_lexer": "ipython3",
   "version": "3.12.4"
  }
 },
 "nbformat": 4,
 "nbformat_minor": 5
}
