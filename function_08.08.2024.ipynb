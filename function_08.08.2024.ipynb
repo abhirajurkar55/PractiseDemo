{
 "cells": [
  {
   "cell_type": "code",
   "execution_count": null,
   "id": "3374d5f1",
   "metadata": {},
   "outputs": [],
   "source": [
    "a = int(input(\"Enter the number:\"))\n",
    "b = int(input(\"Enter the number:\"))\n",
    "c = a+b\n",
    "fsalkasdfnlkasdfnlksdafnasdlkfnlksadfnsadfasdf\n",
    "asd\n",
    "g\n",
    "ag\n",
    "fadg\n",
    "adf\n",
    "gadg\n",
    "\n",
    "gaadg\n",
    "a = int(input(\"Enter the number:\"))\n",
    "b = int(input(\"Enter the number:\"))\n",
    "c = a+b\n",
    "afsdafgsdagadfafdgdfagadfgdagdafgagfadgfdag\n",
    "fdg\n",
    "fdg\n",
    "dfga\n",
    "adfg\n",
    "dfag\n",
    "adg\n",
    "f\n",
    "a = int(input(\"Enter the number:\"))\n",
    "b = int(input(\"Enter the number:\"))\n",
    "c = a+b\n",
    "sadfasdgadgasdggafdgfadgdfagdafgdfagadfgadfgadfgfg\n",
    "a = int(input(\"Enter the number:\"))\n",
    "b = int(input(\"Enter the number:\"))\n",
    "c = a-b\n",
    "\n",
    "fasdfsdafsdafasd\n",
    "fsdafasdfsadfsdfsdafsdafsdafsdfsd\n",
    "a = int(input(\"Enter the number:\"))\n",
    "b = int(input(\"Enter the number:\"))\n",
    "c = a+b"
   ]
  },
  {
   "cell_type": "code",
   "execution_count": null,
   "id": "990c99c7",
   "metadata": {},
   "outputs": [],
   "source": [
    "code duplication\n",
    "very difficult to debug\n",
    "code management -- zero\n",
    "space  complexity\n",
    "time complexity\n",
    "security"
   ]
  },
  {
   "cell_type": "code",
   "execution_count": null,
   "id": "f486bec7",
   "metadata": {},
   "outputs": [],
   "source": [
    "function:\n",
    "    block of code which perform given task\n",
    "    \n",
    "    Code Management\n",
    "    security\n",
    "    debugging is easy now\n",
    "    time and space complexity reduces"
   ]
  },
  {
   "cell_type": "code",
   "execution_count": null,
   "id": "67cf31b2",
   "metadata": {},
   "outputs": [],
   "source": [
    "def functionname(arguments/parameters): #formal arguments\n",
    "    block of code\n",
    "    return value"
   ]
  },
  {
   "cell_type": "code",
   "execution_count": null,
   "id": "468561d9",
   "metadata": {},
   "outputs": [],
   "source": [
    "functionname(arguments/parameters) #actual arguments"
   ]
  },
  {
   "cell_type": "code",
   "execution_count": 4,
   "id": "af6bfba4",
   "metadata": {},
   "outputs": [],
   "source": [
    "def add():\n",
    "    a = int(input(\"Enter the number:\"))\n",
    "    b = int(input(\"Enter the number:\"))\n",
    "    c = a+b\n",
    "    print(f\"Addition of {a} and {b} is {c}\")"
   ]
  },
  {
   "cell_type": "code",
   "execution_count": 5,
   "id": "e23f3644",
   "metadata": {},
   "outputs": [
    {
     "name": "stdout",
     "output_type": "stream",
     "text": [
      "Enter the number:45\n",
      "Enter the number:59\n",
      "Addition of 45 and 59 is 104\n"
     ]
    }
   ],
   "source": [
    "add()"
   ]
  },
  {
   "cell_type": "code",
   "execution_count": 3,
   "id": "affa117d",
   "metadata": {},
   "outputs": [
    {
     "name": "stdout",
     "output_type": "stream",
     "text": [
      "Enter the number:100\n",
      "Enter the number:200\n",
      "Addition of 100 and 200 is 300\n"
     ]
    }
   ],
   "source": [
    "add()"
   ]
  },
  {
   "cell_type": "code",
   "execution_count": 7,
   "id": "814d7459",
   "metadata": {},
   "outputs": [],
   "source": [
    "def add(x,y): #format arguments\n",
    "    z = x+y\n",
    "    print(f\"Addition of {x} and {y} is {z}\")"
   ]
  },
  {
   "cell_type": "code",
   "execution_count": 8,
   "id": "20311d85",
   "metadata": {},
   "outputs": [
    {
     "name": "stdout",
     "output_type": "stream",
     "text": [
      "Addition of 10 and 20 is 30\n"
     ]
    }
   ],
   "source": [
    "add(10,20) #actual arguments"
   ]
  },
  {
   "cell_type": "code",
   "execution_count": 12,
   "id": "6bbc7681",
   "metadata": {},
   "outputs": [
    {
     "name": "stdout",
     "output_type": "stream",
     "text": [
      "Addition of 100 and 200 is 300\n"
     ]
    }
   ],
   "source": [
    "add(100,200)"
   ]
  },
  {
   "cell_type": "code",
   "execution_count": 19,
   "id": "9cb0de7e",
   "metadata": {},
   "outputs": [
    {
     "name": "stdout",
     "output_type": "stream",
     "text": [
      "Addition of 45 and 9 is 54\n",
      "sub of 12 and 6 is 6\n",
      "mul of 5 and 9 is 45\n",
      "division of 45 and 6 is 7.5\n"
     ]
    }
   ],
   "source": [
    "def add(x,y): \n",
    "    z = x+y\n",
    "    print(f\"Addition of {x} and {y} is {z}\")\n",
    "def sub(x,y):\n",
    "    z = x-y\n",
    "    print(f\"sub of {x} and {y} is {z}\")\n",
    "def mul(x,y): \n",
    "    z = x*y\n",
    "    print(f\"mul of {x} and {y} is {z}\")\n",
    "def div(x,y): \n",
    "    z = x/y\n",
    "    print(f\"division of {x} and {y} is {z}\")\n",
    "    \n",
    "    \n",
    "def main():\n",
    "    add(45,9)\n",
    "    sub(12,6)\n",
    "    mul(5,9)\n",
    "    div(45,6)\n",
    "    \n",
    "main()"
   ]
  },
  {
   "cell_type": "code",
   "execution_count": 14,
   "id": "b8d4bd62",
   "metadata": {},
   "outputs": [
    {
     "name": "stdout",
     "output_type": "stream",
     "text": [
      "division of 10 and 2 is 5.0\n"
     ]
    }
   ],
   "source": [
    "div(10,2)"
   ]
  },
  {
   "cell_type": "code",
   "execution_count": 15,
   "id": "300ca08c",
   "metadata": {},
   "outputs": [
    {
     "name": "stdout",
     "output_type": "stream",
     "text": [
      "mul of 4 and 9 is 36\n"
     ]
    }
   ],
   "source": [
    "mul(4,9)"
   ]
  },
  {
   "cell_type": "code",
   "execution_count": 16,
   "id": "bc74b4b0",
   "metadata": {},
   "outputs": [
    {
     "name": "stdout",
     "output_type": "stream",
     "text": [
      "Addition of 10 and 5 is 15\n"
     ]
    }
   ],
   "source": [
    "add(10,5)"
   ]
  },
  {
   "cell_type": "code",
   "execution_count": 17,
   "id": "d2fb6882",
   "metadata": {},
   "outputs": [
    {
     "name": "stdout",
     "output_type": "stream",
     "text": [
      "sub of 40 and 6 is 34\n"
     ]
    }
   ],
   "source": [
    "sub(40,6)"
   ]
  },
  {
   "cell_type": "code",
   "execution_count": null,
   "id": "f15b4009",
   "metadata": {},
   "outputs": [],
   "source": [
    "print vs return\n",
    "\n",
    "\n",
    "print --> value will be in inside function[local]\n",
    "\n",
    "return --> value will be return to calling function"
   ]
  },
  {
   "cell_type": "code",
   "execution_count": 23,
   "id": "ebb5542a",
   "metadata": {},
   "outputs": [],
   "source": [
    "def fullname(first,last):\n",
    "    full_name = first+'_'+last+'@gmail.com'\n",
    "    print(full_name)\n"
   ]
  },
  {
   "cell_type": "code",
   "execution_count": 24,
   "id": "77c0c702",
   "metadata": {},
   "outputs": [
    {
     "name": "stdout",
     "output_type": "stream",
     "text": [
      "Keshave_Patil@gmail.com\n"
     ]
    }
   ],
   "source": [
    "fullname('Keshave','Patil')"
   ]
  },
  {
   "cell_type": "code",
   "execution_count": 25,
   "id": "88130dad",
   "metadata": {},
   "outputs": [
    {
     "ename": "NameError",
     "evalue": "name 'full_name' is not defined",
     "output_type": "error",
     "traceback": [
      "\u001b[1;31m---------------------------------------------------------------------------\u001b[0m",
      "\u001b[1;31mNameError\u001b[0m                                 Traceback (most recent call last)",
      "\u001b[1;32m<ipython-input-25-e1e889fa3b78>\u001b[0m in \u001b[0;36m<module>\u001b[1;34m\u001b[0m\n\u001b[1;32m----> 1\u001b[1;33m \u001b[0mfull_name\u001b[0m\u001b[1;33m\u001b[0m\u001b[1;33m\u001b[0m\u001b[0m\n\u001b[0m",
      "\u001b[1;31mNameError\u001b[0m: name 'full_name' is not defined"
     ]
    }
   ],
   "source": [
    "full_name"
   ]
  },
  {
   "cell_type": "code",
   "execution_count": 29,
   "id": "c1d12aee",
   "metadata": {},
   "outputs": [],
   "source": [
    "def add(x,y):\n",
    "    d = x+y\n",
    "    return d"
   ]
  },
  {
   "cell_type": "code",
   "execution_count": 30,
   "id": "46cfafb7",
   "metadata": {},
   "outputs": [],
   "source": [
    "result = add(340,560)"
   ]
  },
  {
   "cell_type": "code",
   "execution_count": 31,
   "id": "ce5a3698",
   "metadata": {},
   "outputs": [
    {
     "data": {
      "text/plain": [
       "900"
      ]
     },
     "execution_count": 31,
     "metadata": {},
     "output_type": "execute_result"
    }
   ],
   "source": [
    "result"
   ]
  },
  {
   "cell_type": "code",
   "execution_count": 32,
   "id": "187b742e",
   "metadata": {},
   "outputs": [
    {
     "ename": "NameError",
     "evalue": "name 'd' is not defined",
     "output_type": "error",
     "traceback": [
      "\u001b[1;31m---------------------------------------------------------------------------\u001b[0m",
      "\u001b[1;31mNameError\u001b[0m                                 Traceback (most recent call last)",
      "\u001b[1;32m<ipython-input-32-e983f374794d>\u001b[0m in \u001b[0;36m<module>\u001b[1;34m\u001b[0m\n\u001b[1;32m----> 1\u001b[1;33m \u001b[0md\u001b[0m\u001b[1;33m\u001b[0m\u001b[1;33m\u001b[0m\u001b[0m\n\u001b[0m",
      "\u001b[1;31mNameError\u001b[0m: name 'd' is not defined"
     ]
    }
   ],
   "source": [
    "d"
   ]
  },
  {
   "cell_type": "code",
   "execution_count": null,
   "id": "0fd6de8c",
   "metadata": {},
   "outputs": [],
   "source": [
    "function : block wise code\n",
    "    \n",
    "    Problem statement : block/chunk"
   ]
  }
 ],
 "metadata": {
  "kernelspec": {
   "display_name": "Python 3",
   "language": "python",
   "name": "python3"
  },
  "language_info": {
   "codemirror_mode": {
    "name": "ipython",
    "version": 3
   },
   "file_extension": ".py",
   "mimetype": "text/x-python",
   "name": "python",
   "nbconvert_exporter": "python",
   "pygments_lexer": "ipython3",
   "version": "3.8.8"
  }
 },
 "nbformat": 4,
 "nbformat_minor": 5
}
